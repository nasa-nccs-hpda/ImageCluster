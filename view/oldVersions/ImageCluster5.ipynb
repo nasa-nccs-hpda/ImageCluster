{
 "cells": [
  {
   "cell_type": "markdown",
   "id": "0149909c-546f-4597-a469-96dc76600d33",
   "metadata": {},
   "source": [
    "# Image Cluster Notebook"
   ]
  },
  {
   "cell_type": "markdown",
   "id": "ea739df6-b24e-4b01-b20b-b8391bc32b76",
   "metadata": {},
   "source": [
    "## Imports and Functions"
   ]
  },
  {
   "cell_type": "code",
   "execution_count": 1,
   "id": "610bada7-0a46-4494-94f6-e5ae7cca5471",
   "metadata": {},
   "outputs": [],
   "source": [
    "from ipyleaflet import basemaps\n",
    "import ipysheet\n",
    "from IPython.display import Markdown\n",
    "import ipywidgets as widgets\n",
    "from joblib import cpu_count\n",
    "import leafmap.leafmap as leafmap\n",
    "import numpy\n",
    "from osgeo import gdal\n",
    "import pandas\n",
    "from pathlib import Path\n",
    "from sklearn import cluster\n",
    "\n",
    "# ----------------------------------------------------------------------------\n",
    "# getCluster\n",
    "# ----------------------------------------------------------------------------\n",
    "def getCluster(ds: gdal.Dataset, bands: list=None, n_cluster: int=5):\n",
    "    \n",
    "    img = numpy.moveaxis(bands, 0, -1)\n",
    "    img1d = img.reshape(-1, img.shape[-1])\n",
    "    \n",
    "    params = {\n",
    "        'n_clusters' : n_cluster,\n",
    "        'random_state' : 0,\n",
    "        'batch_size' : 256*cpu_count()\n",
    "    }\n",
    "    \n",
    "    cl = cluster.MiniBatchKMeans(**params)\n",
    "    model = cl.fit(img1d)\n",
    "    imgCl = model.labels_\n",
    "    imgCl = imgCl.reshape(img[:,:,0].shape)\n",
    "\n",
    "    return imgCl\n",
    "\n",
    "# ----------------------------------------------------------------------------\n",
    "# handleClick\n",
    "# ----------------------------------------------------------------------------\n",
    "def handleClick(change: dict) -> None:\n",
    "    \n",
    "    with output:\n",
    "        \n",
    "        if change.new == 'Next':\n",
    "\n",
    "            nn = updateList(list(sl.options), list(sl.value))\n",
    "            updateDict('N')\n",
    "            sl.options = nn\n",
    "            bt.value='Select:'\n",
    "\n",
    "        if change.new == 'Done':\n",
    "            updateDict('D')\n",
    "\n",
    "        if change.new == 'Start Over':\n",
    "        \n",
    "            sl.options = opts\n",
    "            updateDict('S')\n",
    "            bt.value = 'Select:'\n",
    "\n",
    "# ----------------------------------------------------------------------------\n",
    "# labelsToGeotiff\n",
    "# These renderers seem to write tiles or pyramids to disk behind the scenes.  \n",
    "# To make rendering code easier, write the labels as a geotiff; then the\n",
    "# renderer will not need to do it.\n",
    "# ----------------------------------------------------------------------------\n",
    "def labelsToGeotiff(labelsFile: Path, labels: numpy.ndarray) -> gdal.Dataset:\n",
    "        \n",
    "    labelsDs = gdal.GetDriverByName('GTiff').Create( \\\n",
    "                    str(labelsFile),\n",
    "                    xsize=ds.RasterXSize,\n",
    "                    ysize=ds.RasterYSize,\n",
    "                    eType=gdal.GDT_Float32\n",
    "               )\n",
    "\n",
    "    labelsDs.SetSpatialRef(ds.GetSpatialRef())\n",
    "    labelsDs.SetGeoTransform(ds.GetGeoTransform())\n",
    "    outBand = labelsDs.GetRasterBand(1)\n",
    "    outBand.WriteArray(labels)\n",
    "    outBand.ComputeStatistics(0)  # For min, max used in color table\n",
    "    labelsDs.FlushCache()\n",
    "    labelsDs.BuildOverviews()\n",
    "\n",
    "    return labelsDs\n",
    "\n",
    "# ----------------------------------------------------------------------------\n",
    "# relabel\n",
    "# ----------------------------------------------------------------------------\n",
    "def relabel(labelArray: numpy.ndarray, lookup: dict) -> numpy.ndarray:\n",
    "    \n",
    "    newLab = labelArray.copy()\n",
    "    \n",
    "    for k, v in lookup.items():\n",
    "\n",
    "        if len(v)==1 & k==v[0]:\n",
    "            pass\n",
    "        else:\n",
    "            newLab = numpy.where(numpy.isin(newLab, v), k, newLab)\n",
    "    \n",
    "    return newLab\n",
    "            \n",
    "# ----------------------------------------------------------------------------\n",
    "# updateDict\n",
    "# ----------------------------------------------------------------------------\n",
    "def updateDict(op: str) -> None:\n",
    "    \n",
    "    if op == 'N':\n",
    "        \n",
    "        key = list(sl.value)[0]\n",
    "        table[key] = list(sl.value)\n",
    "        # print('Re-grouping : ', table)\n",
    "    \n",
    "    if op == 'D':\n",
    "    \n",
    "        if len(sl.options) > 0:\n",
    "            \n",
    "            key = list(sl.options)[0]\n",
    "            table[key] = list(sl.options)\n",
    "        \n",
    "        print('Final Groups : ', table)\n",
    "    \n",
    "    if op == 'S':\n",
    "        \n",
    "        table.clear()\n",
    "    \n",
    "# ----------------------------------------------------------------------------\n",
    "# updateList\n",
    "# ----------------------------------------------------------------------------\n",
    "def updateList(old: list, out: list) -> list:\n",
    "    return [ele for ele in old if ele not in out]\n"
   ]
  },
  {
   "cell_type": "markdown",
   "id": "43785264-61c9-4198-84db-ceae0e661101",
   "metadata": {},
   "source": [
    "## Specify inputs using the variables below."
   ]
  },
  {
   "cell_type": "code",
   "execution_count": 2,
   "id": "5d55e139-f61d-438f-b434-045c74902c42",
   "metadata": {},
   "outputs": [],
   "source": [
    "inFile = Path('/explore/nobackup/people/rlgill/innovation-lab-repositories/ImageCluster/my4326.tif')\n",
    "redBandId = 3\n",
    "greenBandId = 2\n",
    "blueBandId = 1\n",
    "\n",
    "# inFile = Path('/explore/nobackup/people/mcarrol2/LCLUC_Senegal/ForKonrad/Tappan26_WV03_20210314_M1BS_10400100676F0900_isos.tif')\n",
    "# redBandId = 1\n",
    "# greenBandId = 1\n",
    "# blueBandId = 1\n",
    "\n",
    "# inFile = Path('/explore/nobackup/people/mcarrol2/LCLUC_Senegal/ForKonrad/Tappan26_WV03_20210314_M1BS_10400100676F0900_data.tif')\n",
    "# redBandId = 5\n",
    "# greenBandId = 4\n",
    "# blueBandId = 2\n",
    "\n",
    "noDataValue = -9999.0 or None\n",
    "outDirectory = inFile.parent"
   ]
  },
  {
   "cell_type": "markdown",
   "id": "def724cc-e383-41a8-b798-2bd8213ca966",
   "metadata": {},
   "source": [
    "## Open the file, create overviews, and compute the clusters."
   ]
  },
  {
   "cell_type": "code",
   "execution_count": 3,
   "id": "44d773dc-0d78-4fe2-be64-7e4e599b0c75",
   "metadata": {},
   "outputs": [],
   "source": [
    "# ---\n",
    "# Build overviews for rendering.  Cloud-optimized Geotiffs, CoGs, rely on\n",
    "# tiling and overview images. Before we bother creating CoGs, which entails an\n",
    "# additional image file, see how adding overviews to the input image helps.\n",
    "# Assigning 'dummy' prevents extraneous output in the notebook.\n",
    "# ---\n",
    "ds = gdal.Open(str(inFile))\n",
    "\n",
    "if ds.GetRasterBand(1).GetOverviewCount() == 0:\n",
    "    dummy = ds.BuildOverviews()\n",
    "    \n",
    "# ---\n",
    "# Read the bands.\n",
    "# ---\n",
    "redBand = ds.GetRasterBand(redBandId).ReadAsArray()\n",
    "greenBand = ds.GetRasterBand(greenBandId).ReadAsArray()\n",
    "blueBand = ds.GetRasterBand(blueBandId).ReadAsArray()\n",
    "noDataValue = ds.GetRasterBand(redBandId).GetNoDataValue() or noDataValue\n",
    "\n",
    "forExtremes = redBand[redBand != noDataValue]\n",
    "minValue = forExtremes.min()\n",
    "maxValue = forExtremes.max()\n",
    "\n",
    "# ---\n",
    "# Compute the clusters and prepare to render.\n",
    "# ---\n",
    "labels = getCluster(ds, bands=[redBand, greenBand, blueBand], n_cluster=30)\n",
    "labelsFile = outDirectory / (inFile.stem + '-labels' + inFile.suffix)\n",
    "lDs = labelsToGeotiff(labelsFile, labels)"
   ]
  },
  {
   "cell_type": "markdown",
   "id": "c330c149-60fe-4f9a-8ab1-b9e2371b609f",
   "metadata": {},
   "source": [
    "## Step 3: review the input image."
   ]
  },
  {
   "cell_type": "code",
   "execution_count": 8,
   "id": "d4a2c8c1-9f74-40c0-8dc0-e26ce3b775d9",
   "metadata": {
    "tags": []
   },
   "outputs": [
    {
     "data": {
      "application/vnd.jupyter.widget-view+json": {
       "model_id": "d3707a39bd20499bbcfa70dfe0d53d3f",
       "version_major": 2,
       "version_minor": 0
      },
      "text/plain": [
       "Map(center=[66.346511472519, -140.3222662042015], controls=(ZoomControl(options=['position', 'zoom_in_text', '…"
      ]
     },
     "execution_count": 8,
     "metadata": {},
     "output_type": "execute_result"
    }
   ],
   "source": [
    "# ---\n",
    "# We could use leafmap.add_raster, but this way we get a handle to the tile.\n",
    "# ---\n",
    "inLayer = leafmap.get_local_tile_layer(str(inFile),\n",
    "                                       band=[redBandId, greenBandId, blueBandId],\n",
    "                                       vmin=minValue,\n",
    "                                       vmax=maxValue,\n",
    "                                       nodata=noDataValue,\n",
    "                                       opacity=0.5,\n",
    "                                       layer_name='Input Image')\n",
    " \n",
    "clusterLayer = leafmap.get_local_tile_layer( \\\n",
    "                                     str(labelsFile),\n",
    "                                     vmin=lDs.GetRasterBand(1).GetMinimum(),\n",
    "                                     vmax=lDs.GetRasterBand(1).GetMaximum(),\n",
    "                                     nodata=noDataValue,\n",
    "                                     opacity=0.5,\n",
    "                                     palette='viridis',\n",
    "                                     layer_name='Clusters')\n",
    "\n",
    "# ---\n",
    "# The only reason I am using leafmap and not ipyleaflet directly is to get\n",
    "# the inspector tool under the wrench button on leafmap's map.\n",
    "#\n",
    "# There are comments that ipyleaflet.zoom_to_bounds() only works with Mercator\n",
    "# projection.  This is consistent with what I see.  However, it seems to work\n",
    "# when you set the center.\n",
    "# ---\n",
    "m = leafmap.Map(fullscreen_control=False,\n",
    "                layers_control=True,\n",
    "                search_control=False,\n",
    "                draw_control=False,\n",
    "                measure_control=False,\n",
    "                scale_control=False,\n",
    "                google_map='SATELLITE',\n",
    "                center=[inLayer.bounds[0][0], inLayer.bounds[0][1]])\n",
    "\n",
    "m.add_layer(inLayer)\n",
    "m.add(clusterLayer)\n",
    "\n",
    "m.fit_bounds([[inLayer.bounds[0][0], inLayer.bounds[0][1]],\n",
    "              [inLayer.bounds[1][0], inLayer.bounds[1][1]]])\n",
    "\n",
    "m"
   ]
  },
  {
   "cell_type": "markdown",
   "id": "f0d60ece-19c6-494e-8d92-2f31991aec21",
   "metadata": {},
   "source": [
    "## Update the labels.\n",
    "Select multiple values by clicking the mouse or using the arrow keys while pressing shirt, control or command."
   ]
  },
  {
   "cell_type": "code",
   "execution_count": 5,
   "id": "7e82f75d-c34b-460d-a03f-fefe4c265a96",
   "metadata": {},
   "outputs": [
    {
     "data": {
      "application/vnd.jupyter.widget-view+json": {
       "model_id": "508a795628a9438cb7350968717dee49",
       "version_major": 2,
       "version_minor": 0
      },
      "text/plain": [
       "SelectMultiple(layout=Layout(height='200px', width='150px'), options=(0, 1, 2, 3, 4, 5, 6, 7, 8, 9, 10, 11, 12…"
      ]
     },
     "metadata": {},
     "output_type": "display_data"
    },
    {
     "data": {
      "application/vnd.jupyter.widget-view+json": {
       "model_id": "72e8f3bdaddc47f09e2b5b335b48050c",
       "version_major": 2,
       "version_minor": 0
      },
      "text/plain": [
       "ToggleButtons(options=('Select:', 'Next', 'Done', 'Start Over'), value='Select:')"
      ]
     },
     "metadata": {},
     "output_type": "display_data"
    },
    {
     "data": {
      "application/vnd.jupyter.widget-view+json": {
       "model_id": "dd0d594f6ed3454e9ab6209d42e1e290",
       "version_major": 2,
       "version_minor": 0
      },
      "text/plain": [
       "Output()"
      ]
     },
     "metadata": {},
     "output_type": "display_data"
    }
   ],
   "source": [
    "opts = list(numpy.unique(labels))\n",
    "\n",
    "sl = widgets.SelectMultiple(options=opts, \n",
    "                            layout=(widgets.Layout(height='200px', width='150px')))\n",
    "\n",
    "bt = widgets.ToggleButtons(options=['Select:', 'Next', 'Done', 'Start Over'], \n",
    "                           value='Select:')\n",
    "\n",
    "# bt = widgets.ToggleButtons(options=['Next', 'Done', 'Start Over'], \n",
    "#                            value='Next')\n",
    "\n",
    "output = widgets.Output()\n",
    "display(sl, bt, output)\n",
    "table = {}\n",
    "bt.observe(handleClick, names='value')"
   ]
  },
  {
   "cell_type": "markdown",
   "id": "272566d5-a456-4d05-b85c-a7ce8064af81",
   "metadata": {},
   "source": [
    "## Edit the groups.\n",
    "Edit cluster IDs in each group.  When finished, proceed to the next cell."
   ]
  },
  {
   "cell_type": "code",
   "execution_count": 7,
   "id": "cebdcdc5-2f9e-4470-a842-b9ae5ba4a673",
   "metadata": {},
   "outputs": [
    {
     "data": {
      "application/vnd.jupyter.widget-view+json": {
       "model_id": "02050ec3d6a34c8fa54810c52f4deaa3",
       "version_major": 2,
       "version_minor": 0
      },
      "text/plain": [
       "Sheet(cells=(Cell(column_end=0, column_start=0, numeric_format='0[.]0', row_start=0, squeeze_row=False, type='…"
      ]
     },
     "execution_count": 7,
     "metadata": {},
     "output_type": "execute_result"
    }
   ],
   "source": [
    "strTab = {}\n",
    "\n",
    "for item in table:\n",
    "    strTab[item] = ', '.join(str(i) for i in table[item])\n",
    "\n",
    "df = pandas.DataFrame(strTab.items(), columns=['Class', 'Cluster ID'])\n",
    "sheet = ipysheet.from_dataframe(df)\n",
    "sheet.column_width = [1, 5]\n",
    "sheet"
   ]
  },
  {
   "cell_type": "code",
   "execution_count": 8,
   "id": "6735b926-0875-471b-8308-cd2fa9604a84",
   "metadata": {},
   "outputs": [],
   "source": [
    "editedDf = ipysheet.to_dataframe(sheet)\n",
    "strClusters = editedDf.to_dict()['Cluster ID']\n",
    "\n",
    "finalClusters = {}\n",
    "\n",
    "for key in strClusters:\n",
    "    \n",
    "    strCluster = strClusters[key]\n",
    "    finalClusters[int(key)] = [int(i) for i in strCluster.split(',') if i]\n",
    "\n",
    "newLabels = relabel(labels, finalClusters)"
   ]
  },
  {
   "cell_type": "markdown",
   "id": "2e7fb804-998b-4b61-aff4-cdaea1372aec",
   "metadata": {
    "tags": []
   },
   "source": [
    "## Review the updated map."
   ]
  },
  {
   "cell_type": "code",
   "execution_count": 9,
   "id": "3de40132-be5c-44ce-9620-9809d4d9143b",
   "metadata": {
    "tags": []
   },
   "outputs": [
    {
     "data": {
      "application/vnd.jupyter.widget-view+json": {
       "model_id": "a7c182eb0b7a446f8e9c92e06b354653",
       "version_major": 2,
       "version_minor": 0
      },
      "text/plain": [
       "Map(center=[12.766262399623551, -16.502342467486244], controls=(ZoomControl(options=['position', 'zoom_in_text…"
      ]
     },
     "metadata": {},
     "output_type": "display_data"
    },
    {
     "data": {
      "text/markdown": [
       "<h3>The cluster map is at<br><br>/explore/nobackup/people/mcarrol2/LCLUC_Senegal/ForKonrad/Tappan26_WV03_20210314_M1BS_10400100676F0900_isos-cluster-map.tif</h3>"
      ],
      "text/plain": [
       "<IPython.core.display.Markdown object>"
      ]
     },
     "execution_count": 9,
     "metadata": {},
     "output_type": "execute_result"
    }
   ],
   "source": [
    "clusterMapFile = outDirectory / (inFile.stem + '-cluster-map' + inFile.suffix)\n",
    "nDs = labelsToGeotiff(clusterMapFile, newLabels)\n",
    "\n",
    "newClusterLayer = leafmap.get_local_tile_layer( \\\n",
    "                                     str(clusterMapFile),\n",
    "                                     vmin=lDs.GetRasterBand(1).GetMinimum(),\n",
    "                                     vmax=lDs.GetRasterBand(1).GetMaximum(),\n",
    "                                     nodata=noDataValue,\n",
    "                                     opacity=0.5,\n",
    "                                     palette='viridis',\n",
    "                                     layer_name='New Clusters')\n",
    " \n",
    "n = leafmap.Map(fullscreen_control=False,\n",
    "                layers_control=True,\n",
    "                search_control=False,\n",
    "                draw_control=False,\n",
    "                measure_control=False,\n",
    "                scale_control=False,\n",
    "                google_map='SATELLITE',\n",
    "                center=[inLayer.bounds[0][0], inLayer.bounds[0][1]])\n",
    "\n",
    "n.add(newClusterLayer)\n",
    "\n",
    "n.fit_bounds([[inLayer.bounds[0][0], inLayer.bounds[0][1]],\n",
    "              [inLayer.bounds[1][0], inLayer.bounds[1][1]]])\n",
    "\n",
    "display(n)\n",
    "\n",
    "Markdown(f'<h3>The cluster map is at<br><br>{clusterMapFile}</h3>')"
   ]
  },
  {
   "cell_type": "code",
   "execution_count": null,
   "id": "b0ca92b6-9911-47ee-ad8d-0295e03fae22",
   "metadata": {},
   "outputs": [],
   "source": []
  }
 ],
 "metadata": {
  "kernelspec": {
   "display_name": "ILAB Kernel",
   "language": "python",
   "name": "ilab-kernel"
  },
  "language_info": {
   "codemirror_mode": {
    "name": "ipython",
    "version": 3
   },
   "file_extension": ".py",
   "mimetype": "text/x-python",
   "name": "python",
   "nbconvert_exporter": "python",
   "pygments_lexer": "ipython3",
   "version": "3.8.16"
  },
  "toc-showtags": true
 },
 "nbformat": 4,
 "nbformat_minor": 5
}
