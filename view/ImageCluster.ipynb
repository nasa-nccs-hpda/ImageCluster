{
 "cells": [
  {
   "cell_type": "markdown",
   "id": "0149909c-546f-4597-a469-96dc76600d33",
   "metadata": {},
   "source": [
    "# Image Cluster Notebook"
   ]
  },
  {
   "cell_type": "code",
   "execution_count": 1,
   "id": "1e195529-39fb-40ec-b3a7-1b892adbc05d",
   "metadata": {},
   "outputs": [],
   "source": [
    "from ipyleaflet import basemaps\n",
    "from ipyleaflet import TileLayer\n",
    "import ipysheet\n",
    "from IPython.display import Markdown\n",
    "import ipywidgets\n",
    "import leafmap\n",
    "import numpy\n",
    "import pandas\n",
    "from pathlib import Path\n",
    "import sys\n",
    "\n",
    "import sys\n",
    "sys.path.append('/explore/nobackup/people/rlgill/innovation-lab-repositories/')\n",
    "from ImageCluster.model.Clusterer import Clusterer\n",
    "from ImageCluster.model.ImageHelper import ImageHelper\n"
   ]
  },
  {
   "cell_type": "code",
   "execution_count": 2,
   "id": "5d55e139-f61d-438f-b434-045c74902c42",
   "metadata": {},
   "outputs": [],
   "source": [
    "inFile = Path('/explore/nobackup/people/rlgill/SystemTesting/data/my4326.tif')\n",
    "redBandId = 3\n",
    "greenBandId = 2\n",
    "blueBandId = 1\n",
    "\n",
    "# inFile = Path('/explore/nobackup/people/mcarrol2/LCLUC_Senegal/ForKonrad/Tappan26_WV03_20210314_M1BS_10400100676F0900_isos.tif')\n",
    "# redBandId = 1\n",
    "# greenBandId = 1\n",
    "# blueBandId = 1\n",
    "\n",
    "# inFile = Path('/explore/nobackup/people/mcarrol2/LCLUC_Senegal/ForKonrad/Tappan26_WV03_20210314_M1BS_10400100676F0900_data.tif')\n",
    "# redBandId = 5\n",
    "# greenBandId = 4\n",
    "# blueBandId = 2\n",
    "\n",
    "noDataValue = -9999.0 or None\n",
    "outDirectory = inFile.parent\n"
   ]
  },
  {
   "cell_type": "code",
   "execution_count": 3,
   "id": "610bada7-0a46-4494-94f6-e5ae7cca5471",
   "metadata": {},
   "outputs": [],
   "source": [
    "# ----------------------------------------------------------------------------\n",
    "# handleClick\n",
    "# ----------------------------------------------------------------------------\n",
    "def handleClick(change: dict) -> None:\n",
    "    \n",
    "    with output:\n",
    "        \n",
    "        if change.new == 'Next':\n",
    "\n",
    "            nn = updateList(list(sl.options), list(sl.value))\n",
    "            updateDict('N')\n",
    "            sl.options = nn\n",
    "            bt.value='Select:'\n",
    "\n",
    "        if change.new == 'Done':\n",
    "            updateDict('D')\n",
    "\n",
    "        if change.new == 'Start Over':\n",
    "        \n",
    "            sl.options = opts\n",
    "            updateDict('S')\n",
    "            bt.value = 'Select:'\n",
    "\n",
    "# ----------------------------------------------------------------------------\n",
    "# relabel\n",
    "# ----------------------------------------------------------------------------\n",
    "def relabel(labelArray: numpy.ndarray, lookup: dict) -> numpy.ndarray:\n",
    "    \n",
    "    newLab = labelArray.copy()\n",
    "    \n",
    "    for k, v in lookup.items():\n",
    "\n",
    "        if len(v)==1 & k==v[0]:\n",
    "            pass\n",
    "        else:\n",
    "            newLab = numpy.where(numpy.isin(newLab, v), k, newLab)\n",
    "    \n",
    "    return newLab\n",
    "            \n",
    "# ----------------------------------------------------------------------------\n",
    "# updateDict\n",
    "# ----------------------------------------------------------------------------\n",
    "def updateDict(op: str) -> None:\n",
    "    \n",
    "    if op == 'N':\n",
    "        \n",
    "        key = list(sl.value)[0]\n",
    "        table[key] = list(sl.value)\n",
    "        # print('Re-grouping : ', table)\n",
    "    \n",
    "    if op == 'D':\n",
    "    \n",
    "        if len(sl.options) > 0:\n",
    "            \n",
    "            key = list(sl.options)[0]\n",
    "            table[key] = list(sl.options)\n",
    "        \n",
    "        print('Final Groups : ', table)\n",
    "    \n",
    "    if op == 'S':\n",
    "        \n",
    "        table.clear()\n",
    "    \n",
    "# ----------------------------------------------------------------------------\n",
    "# updateList\n",
    "# ----------------------------------------------------------------------------\n",
    "def updateList(old: list, out: list) -> list:\n",
    "    return [ele for ele in old if ele not in out]\n"
   ]
  },
  {
   "cell_type": "code",
   "execution_count": 4,
   "id": "2f1b9e48-982a-4e5c-abb6-aeb1a885d0d7",
   "metadata": {
    "tags": []
   },
   "outputs": [],
   "source": [
    "# ---\n",
    "# Ingest the input image.\n",
    "# ---\n",
    "inHelper = ImageHelper()\n",
    "\n",
    "inHelper.initFromFile(inputFile=inFile, \n",
    "                      noDataValue=noDataValue, \n",
    "                      redBandId=redBandId, \n",
    "                      greenBandId=greenBandId, \n",
    "                      blueBandId=blueBandId)\n",
    "\n",
    "# ---\n",
    "# Create the clusters, put them into a Geotiff, then ingest the image.\n",
    "# ---\n",
    "labels = Clusterer.getClusters(bands=inHelper.getRgbBands(), numClusters=30)\n",
    "labelsFile = outDirectory / (inFile.stem + '-labels' + inFile.suffix)\n",
    "labelsDs = Clusterer.labelsToGeotiff(inHelper._dataset, labelsFile, labels)\n",
    "lHelper = ImageHelper()\n",
    "lHelper.initFromDataset(labelsDs, noDataValue)"
   ]
  },
  {
   "cell_type": "code",
   "execution_count": 5,
   "id": "8f964967-85b9-4645-a869-354f91a84a40",
   "metadata": {
    "tags": []
   },
   "outputs": [
    {
     "data": {
      "application/vnd.jupyter.widget-view+json": {
       "model_id": "1637d74a1c3343eda586c43845294824",
       "version_major": 2,
       "version_minor": 0
      },
      "text/plain": [
       "Map(center=[66.346511472519, -140.3222662042015], controls=(ZoomControl(options=['position', 'zoom_in_text', '…"
      ]
     },
     "execution_count": 5,
     "metadata": {},
     "output_type": "execute_result"
    }
   ],
   "source": [
    "corners = inHelper.getCorners()\n",
    "\n",
    "# ---\n",
    "# The only reason used leafmap and not ipyleaflet directly is to get the\n",
    "# inspector tool under the wrench button on leafmap's map.\n",
    "# ---\n",
    "m = leafmap.Map(fullscreen_control=False,\n",
    "                layers_control=True,\n",
    "                search_control=False,\n",
    "                draw_control=False,\n",
    "                measure_control=False,\n",
    "                scale_control=False,\n",
    "                toolbar_control=True,\n",
    "                center=[corners[1], corners[0]])\n",
    "\n",
    "m.fit_bounds([[corners[1], corners[0]], [corners[3], corners[2]]])\n",
    "\n",
    "m.add_raster(str(inFile),\n",
    "             band=inHelper.getRgbIndexList(),\n",
    "             vmin=inHelper._minValue,\n",
    "             vmax=inHelper._maxValue,\n",
    "             nodata=inHelper._noDataValue,\n",
    "             opacity=0.5,\n",
    "             layer_name=inFile.name\n",
    "            )\n",
    "\n",
    "m.add_raster(str(labelsFile),\n",
    "             vmin=lHelper._minValue,\n",
    "             vmax=lHelper._maxValue,\n",
    "             nodata=lHelper._noDataValue,\n",
    "             opacity=0.5,\n",
    "             layer_name=labelsFile.name,\n",
    "             palette='viridis',\n",
    "            )\n",
    "\n",
    "m"
   ]
  },
  {
   "cell_type": "markdown",
   "id": "f0d60ece-19c6-494e-8d92-2f31991aec21",
   "metadata": {},
   "source": [
    "## Update the labels.\n",
    "Select multiple values by clicking the mouse or using the arrow keys while pressing shirt, control or command."
   ]
  },
  {
   "cell_type": "code",
   "execution_count": null,
   "id": "7e82f75d-c34b-460d-a03f-fefe4c265a96",
   "metadata": {},
   "outputs": [],
   "source": [
    "opts = list(numpy.unique(labels))\n",
    "\n",
    "sl = ipywidgets.SelectMultiple( \\\n",
    "        options=opts, \n",
    "        layout=(ipywidgets.Layout(height='200px', width='150px')))\n",
    "\n",
    "bt = ipywidgets.ToggleButtons(options=['Select:', 'Next', 'Done', 'Start Over'], \n",
    "                              value='Select:')\n",
    "\n",
    "output = ipywidgets.Output()\n",
    "display(sl, bt, output)\n",
    "table = {}\n",
    "bt.observe(handleClick, names='value')"
   ]
  },
  {
   "cell_type": "markdown",
   "id": "272566d5-a456-4d05-b85c-a7ce8064af81",
   "metadata": {},
   "source": [
    "## Edit the groups.\n",
    "Edit cluster IDs in each group.  When finished, proceed to the next cell."
   ]
  },
  {
   "cell_type": "code",
   "execution_count": null,
   "id": "cebdcdc5-2f9e-4470-a842-b9ae5ba4a673",
   "metadata": {},
   "outputs": [],
   "source": [
    "strTab = {}\n",
    "\n",
    "for item in table:\n",
    "    strTab[item] = ', '.join(str(i) for i in table[item])\n",
    "\n",
    "df = pandas.DataFrame(strTab.items(), columns=['Class', 'Cluster ID'])\n",
    "sheet = ipysheet.from_dataframe(df)\n",
    "sheet.column_width = [1, 5]\n",
    "sheet"
   ]
  },
  {
   "cell_type": "code",
   "execution_count": null,
   "id": "6735b926-0875-471b-8308-cd2fa9604a84",
   "metadata": {},
   "outputs": [],
   "source": [
    "editedDf = ipysheet.to_dataframe(sheet)\n",
    "strClusters = editedDf.to_dict()['Cluster ID']\n",
    "\n",
    "finalClusters = {}\n",
    "\n",
    "for key in strClusters:\n",
    "    \n",
    "    strCluster = strClusters[key]\n",
    "    finalClusters[int(key)] = [int(i) for i in strCluster.split(',') if i]\n",
    "\n",
    "newClusters = relabel(labels, finalClusters)"
   ]
  },
  {
   "cell_type": "markdown",
   "id": "2e7fb804-998b-4b61-aff4-cdaea1372aec",
   "metadata": {
    "tags": []
   },
   "source": [
    "## Review the updated map."
   ]
  },
  {
   "cell_type": "code",
   "execution_count": null,
   "id": "3de40132-be5c-44ce-9620-9809d4d9143b",
   "metadata": {
    "tags": []
   },
   "outputs": [],
   "source": [
    "clusterMapFile = outDirectory / (inFile.stem + '-cluster-map' + inFile.suffix)\n",
    "\n",
    "cmDataset = Clusterer.labelsToGeotiff(inHelper._dataset, \n",
    "                                      clusterMapFile, newClusters)\n",
    "\n",
    "cmHelper = ImageHelper()\n",
    "cmHelper.initFromDataset(cmDataset, noDataValue)\n",
    "\n",
    "m.add_raster(str(clusterMapFile),\n",
    "             band=cmHelper.getRgbIndexList(),\n",
    "             vmin=cmHelper._minValue,\n",
    "             vmax=cmHelper._maxValue,\n",
    "             nodata=cmHelper._noDataValue,\n",
    "             opacity=0.5,\n",
    "             layer_name=clusterMapFile.name\n",
    "            )\n",
    "\n",
    "display(m)\n",
    "\n",
    "\n",
    "Markdown(f'<h3>The cluster map is at<br><br>{clusterMapFile}</h3>')"
   ]
  },
  {
   "cell_type": "code",
   "execution_count": null,
   "id": "b0ca92b6-9911-47ee-ad8d-0295e03fae22",
   "metadata": {},
   "outputs": [],
   "source": []
  }
 ],
 "metadata": {
  "kernelspec": {
   "display_name": "ILAB Kernel",
   "language": "python",
   "name": "ilab-kernel"
  },
  "language_info": {
   "codemirror_mode": {
    "name": "ipython",
    "version": 3
   },
   "file_extension": ".py",
   "mimetype": "text/x-python",
   "name": "python",
   "nbconvert_exporter": "python",
   "pygments_lexer": "ipython3",
   "version": "3.8.16"
  },
  "toc-showtags": true
 },
 "nbformat": 4,
 "nbformat_minor": 5
}
