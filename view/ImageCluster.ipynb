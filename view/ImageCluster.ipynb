{
 "cells": [
  {
   "cell_type": "markdown",
   "id": "0149909c-546f-4597-a469-96dc76600d33",
   "metadata": {},
   "source": [
    "# Image Cluster Notebook"
   ]
  },
  {
   "cell_type": "code",
   "execution_count": 1,
   "id": "1e195529-39fb-40ec-b3a7-1b892adbc05d",
   "metadata": {},
   "outputs": [],
   "source": [
    "from ipyleaflet import basemaps\n",
    "from ipyleaflet import TileLayer\n",
    "import ipysheet\n",
    "from IPython.display import Markdown\n",
    "import ipywidgets\n",
    "from joblib import cpu_count\n",
    "import leafmap\n",
    "import numpy\n",
    "import pandas\n",
    "from pathlib import Path\n",
    "import sys\n",
    "from osgeo import gdal\n",
    "from sklearn import cluster"
   ]
  },
  {
   "cell_type": "code",
   "execution_count": 2,
   "id": "5d55e139-f61d-438f-b434-045c74902c42",
   "metadata": {},
   "outputs": [],
   "source": [
    "inFile = Path('/explore/nobackup/people/rlgill/innovation-lab-repositories/ImageCluster/my4326.tif')\n",
    "redBandId = 3\n",
    "greenBandId = 2\n",
    "blueBandId = 1\n",
    "\n",
    "# inFile = Path('/explore/nobackup/people/mcarrol2/LCLUC_Senegal/ForKonrad/Tappan26_WV03_20210314_M1BS_10400100676F0900_isos.tif')\n",
    "# redBandId = 1\n",
    "# greenBandId = 1\n",
    "# blueBandId = 1\n",
    "\n",
    "# inFile = Path('/explore/nobackup/people/mcarrol2/LCLUC_Senegal/ForKonrad/Tappan26_WV03_20210314_M1BS_10400100676F0900_data.tif')\n",
    "# redBandId = 5\n",
    "# greenBandId = 4\n",
    "# blueBandId = 2\n",
    "\n",
    "noDataValue = -9999.0 or None\n",
    "outDirectory = inFile.parent\n"
   ]
  },
  {
   "cell_type": "code",
   "execution_count": 3,
   "id": "610bada7-0a46-4494-94f6-e5ae7cca5471",
   "metadata": {},
   "outputs": [],
   "source": [
    "# ----------------------------------------------------------------------------\n",
    "# handleClick\n",
    "# ----------------------------------------------------------------------------\n",
    "def handleClick(change: dict) -> None:\n",
    "    \n",
    "    with output:\n",
    "        \n",
    "        if change.new == 'Next':\n",
    "\n",
    "            nn = updateList(list(sl.options), list(sl.value))\n",
    "            updateDict('N')\n",
    "            sl.options = nn\n",
    "            bt.value='Select:'\n",
    "\n",
    "        if change.new == 'Done':\n",
    "            updateDict('D')\n",
    "\n",
    "        if change.new == 'Start Over':\n",
    "        \n",
    "            sl.options = opts\n",
    "            updateDict('S')\n",
    "            bt.value = 'Select:'\n",
    "\n",
    "# ----------------------------------------------------------------------------\n",
    "# relabel\n",
    "# ----------------------------------------------------------------------------\n",
    "def relabel(labelArray: numpy.ndarray, lookup: dict) -> numpy.ndarray:\n",
    "    \n",
    "    newLab = labelArray.copy()\n",
    "    \n",
    "    for k, v in lookup.items():\n",
    "\n",
    "        if len(v)==1 & k==v[0]:\n",
    "            pass\n",
    "        else:\n",
    "            newLab = numpy.where(numpy.isin(newLab, v), k, newLab)\n",
    "    \n",
    "    return newLab\n",
    "            \n",
    "# ----------------------------------------------------------------------------\n",
    "# updateDict\n",
    "# ----------------------------------------------------------------------------\n",
    "def updateDict(op: str) -> None:\n",
    "    \n",
    "    if op == 'N':\n",
    "        \n",
    "        key = list(sl.value)[0]\n",
    "        table[key] = list(sl.value)\n",
    "        # print('Re-grouping : ', table)\n",
    "    \n",
    "    if op == 'D':\n",
    "    \n",
    "        if len(sl.options) > 0:\n",
    "            \n",
    "            key = list(sl.options)[0]\n",
    "            table[key] = list(sl.options)\n",
    "        \n",
    "        print('Final Groups : ', table)\n",
    "    \n",
    "    if op == 'S':\n",
    "        \n",
    "        table.clear()\n",
    "    \n",
    "# ----------------------------------------------------------------------------\n",
    "# updateList\n",
    "# ----------------------------------------------------------------------------\n",
    "def updateList(old: list, out: list) -> list:\n",
    "    return [ele for ele in old if ele not in out]\n"
   ]
  },
  {
   "cell_type": "code",
   "execution_count": 4,
   "id": "fca9a984-175f-4a00-b515-0949fad06095",
   "metadata": {},
   "outputs": [],
   "source": [
    "# # ----------------------------------------------------------------------------\n",
    "# # Class ImageHelper\n",
    "# #\n",
    "# # TODO: add accessors using @property.\n",
    "# # ----------------------------------------------------------------------------\n",
    "# class ImageHelper(object):\n",
    "    \n",
    "#     # ------------------------------------------------------------------------\n",
    "#     # init\n",
    "#     # ------------------------------------------------------------------------\n",
    "#     def __init__(self):\n",
    "        \n",
    "#         self._dataset: gdal.Dataset = None\n",
    "#         self._inputFile: Path = None\n",
    "#         self._redBandId: int = 1\n",
    "#         self._greenBandId: int = 1\n",
    "#         self._blueBandId: int = 1\n",
    "#         self._redBand: numpy.ndarray = None\n",
    "#         self._greenBand: numpy.ndarray = None\n",
    "#         self._blueBand: numpy.ndarray = None\n",
    "#         self._noDataValue: float = -9999.0\n",
    "#         self._minValue: float = sys.float_info.max\n",
    "#         self._maxValue: float = sys.float_info.min\n",
    "  \n",
    "#     # ------------------------------------------------------------------------\n",
    "#     # initFromDataset\n",
    "#     # ------------------------------------------------------------------------\n",
    "#     def initFromDataset(self, \n",
    "#                         dataset: gdal.Dataset,\n",
    "#                         noDataValue: float,\n",
    "#                         redBandId: int = 1,\n",
    "#                         greenBandId: int = 1,\n",
    "#                         blueBandId: int = 1,\n",
    "#                        ) -> None:\n",
    "        \n",
    "#         self._dataset = dataset\n",
    "        \n",
    "#         self._completeInitialization(noDataValue, \n",
    "#                                      redBandId, \n",
    "#                                      greenBandId, \n",
    "#                                      blueBandId)\n",
    "        \n",
    "#     # ------------------------------------------------------------------------\n",
    "#     # initFromFile\n",
    "#     # ------------------------------------------------------------------------\n",
    "#     def initFromFile(self, \n",
    "#                      inputFile: Path,\n",
    "#                      noDataValue: float,\n",
    "#                      redBandId: int = 1,\n",
    "#                      blueBandId: int = 1,\n",
    "#                      greenBandId: int = 1,\n",
    "#                     ) -> None:\n",
    "        \n",
    "#         # TODO: check validity and comment.\n",
    "#         self._inputFile = inputFile\n",
    "#         self._dataset: gdal.Dataset = gdal.Open(str(self._inputFile))\n",
    "        \n",
    "#         self._completeInitialization(noDataValue, \n",
    "#                                      redBandId, \n",
    "#                                      greenBandId, \n",
    "#                                      blueBandId)\n",
    "        \n",
    "#     # ------------------------------------------------------------------------\n",
    "#     # completeInitialization\n",
    "#     # ------------------------------------------------------------------------\n",
    "#     def _completeInitialization(self,\n",
    "#                                 noDataValue: float,\n",
    "#                                 redBandId: int = 1,\n",
    "#                                 greenBandId: int = 1,\n",
    "#                                 blueBandId: int = 1,\n",
    "#                                ) -> None:\n",
    "        \n",
    "#         self._redBandId = redBandId\n",
    "#         self._greenBandId = greenBandId\n",
    "#         self._blueBandId = blueBandId\n",
    "        \n",
    "#         # Generate overviews, if they do not exist.\n",
    "#         if self._dataset.GetRasterBand(1).GetOverviewCount() == 0:\n",
    "#             dummy =self. _dataset.BuildOverviews()\n",
    "\n",
    "#         # ---\n",
    "#         # Read the bands.\n",
    "#         # ---\n",
    "#         self._redBand: numpy.ndarray = \\\n",
    "#             self._dataset.GetRasterBand(self._redBandId).ReadAsArray()\n",
    "        \n",
    "#         self._greenBand: numpy.ndarray = \\\n",
    "#             self._dataset.GetRasterBand(self._greenBandId).ReadAsArray()\n",
    "        \n",
    "#         self._blueBand: numpy.ndarray = \\\n",
    "#             self._dataset.GetRasterBand(self._blueBandId).ReadAsArray()\n",
    "        \n",
    "#         # ---\n",
    "#         # Initialize the no-data value.\n",
    "#         # ---\n",
    "#         self._noDataValue = self._dataset.GetRasterBand(self._redBandId). \\\n",
    "#             GetNoDataValue() or noDataValue\n",
    "       \n",
    "#         # ---\n",
    "#         # Compute the minimum and maximum pixels values to help the renderer.\n",
    "#         # ---\n",
    "#         forExtremes = self._redBand[self._redBand != self._noDataValue]\n",
    "#         self._minValue: float = forExtremes.min()\n",
    "#         self._maxValue: float = forExtremes.max()\n",
    "\n",
    "#     # ------------------------------------------------------------------------\n",
    "#     # getCorners\n",
    "#     #\n",
    "#     # Why is this not built into gdal?\n",
    "#     # ------------------------------------------------------------------------\n",
    "#     def getCorners(self):\n",
    "        \n",
    "#         minx, xres, xskew, maxy, yskew, yres = \\\n",
    "#             self._dataset.GetGeoTransform()\n",
    "        \n",
    "#         maxx = minx + (self._dataset.RasterXSize * xres)\n",
    "#         miny = maxy + (self._dataset.RasterYSize * yres)\n",
    "\n",
    "#         return (minx, miny, maxx, maxy)\n",
    "    \n",
    "#     # ------------------------------------------------------------------------\n",
    "#     # getRgbIndexList\n",
    "#     # ------------------------------------------------------------------------\n",
    "#     def getRgbIndexList(self) -> list:\n",
    "        \n",
    "#         return [self._redBandId, self._greenBandId, self._blueBandId]\n",
    "    \n",
    "#     # ------------------------------------------------------------------------\n",
    "#     # getRgbBands\n",
    "#     # ------------------------------------------------------------------------\n",
    "#     def getRgbBands(self) -> list:\n",
    "        \n",
    "#         return [self._redBand, self._greenBand, self._blueBand]\n",
    "\n",
    "#     # ------------------------------------------------------------------------\n",
    "#     # __str__\n",
    "#     # ------------------------------------------------------------------------\n",
    "#     def __str__(self):\n",
    "        \n",
    "#         return ('Input file: ' + str(self._inputFile) + \n",
    "#                 '\\nMin. pixel: ' + str(self._minValue) +\n",
    "#                 '\\nMax. pixel: ' + str(self._maxValue) + \n",
    "#                 '\\nNo-data value: ' + str(self._noDataValue) + \n",
    "#                 '\\nRed band index: ' + str(self._redBandId) +\n",
    "#                 '\\nGreen band index: ' + str(self._greenBandId) +\n",
    "#                 '\\nBlue band index: ' + str(self._blueBandId) +\n",
    "#                 '\\nCorners: ' + str(self.getCorners())\n",
    "#                )\n",
    "    "
   ]
  },
  {
   "cell_type": "code",
   "execution_count": 5,
   "id": "84fb9a8b-0fa5-4c28-9e38-4bfcca27bd6f",
   "metadata": {},
   "outputs": [],
   "source": [
    "# ----------------------------------------------------------------------------\n",
    "# Class Clusterer\n",
    "# ----------------------------------------------------------------------------\n",
    "class Clusterer(object):\n",
    "\n",
    "    # ------------------------------------------------------------------------\n",
    "    # getClusters\n",
    "    # ------------------------------------------------------------------------\n",
    "    @staticmethod\n",
    "    def getClusters(bands: list, numClusters: int=5) -> numpy.ndarray:\n",
    "\n",
    "        img = numpy.moveaxis(bands, 0, -1)\n",
    "        img1d = img.reshape(-1, img.shape[-1])\n",
    "\n",
    "        cl = cluster.MiniBatchKMeans(n_clusters=numClusters,\n",
    "                                     random_state=0,\n",
    "                                     batch_size=256*cpu_count()\n",
    "                                    )\n",
    "        \n",
    "        model = cl.fit(img1d)\n",
    "        imgCl = model.labels_\n",
    "        imgCl = imgCl.reshape(img[:,:,0].shape)\n",
    "\n",
    "        return imgCl\n",
    "\n",
    "    # ------------------------------------------------------------------------\n",
    "    # labelsToGeotiff\n",
    "    # These renderers seem to write tiles or pyramids to disk.  \n",
    "    # To make rendering code easier, write the labels as a geotiff; then the\n",
    "    # renderer will not need to do it.\n",
    "    # ------------------------------------------------------------------------\n",
    "    @staticmethod\n",
    "    def labelsToGeotiff(referenceDs: gdal.Dataset,\n",
    "                        labelsFile: Path, \n",
    "                        labels: numpy.ndarray) -> gdal.Dataset:\n",
    "\n",
    "        if labelsFile.exists():\n",
    "            labelsFile.unlink()\n",
    "            \n",
    "        labelsDs = gdal.GetDriverByName('GTiff').Create( \\\n",
    "                        str(labelsFile),\n",
    "                        xsize=referenceDs.RasterXSize,\n",
    "                        ysize=referenceDs.RasterYSize,\n",
    "                        eType=gdal.GDT_Float32\n",
    "                   )\n",
    "\n",
    "        labelsDs.SetSpatialRef(referenceDs.GetSpatialRef())\n",
    "        labelsDs.SetGeoTransform(referenceDs.GetGeoTransform())\n",
    "        outBand = labelsDs.GetRasterBand(1)\n",
    "        outBand.WriteArray(labels)\n",
    "        outBand.ComputeStatistics(0)  # For min, max used in color table\n",
    "        labelsDs.FlushCache()\n",
    "        labelsDs.BuildOverviews()\n",
    "\n",
    "        return labelsDs\n"
   ]
  },
  {
   "cell_type": "code",
   "execution_count": 6,
   "id": "2f1b9e48-982a-4e5c-abb6-aeb1a885d0d7",
   "metadata": {
    "tags": []
   },
   "outputs": [],
   "source": [
    "# ---\n",
    "# Ingest the input image.\n",
    "# ---\n",
    "inHelper = ImageHelper()\n",
    "\n",
    "inHelper.initFromFile(inputFile=inFile, \n",
    "                      noDataValue=noDataValue, \n",
    "                      redBandId=redBandId, \n",
    "                      greenBandId=greenBandId, \n",
    "                      blueBandId=blueBandId)\n",
    "\n",
    "# ---\n",
    "# Create the clusters, put them into a Geotiff, then ingest the image.\n",
    "# ---\n",
    "labels = Clusterer.getClusters(bands=inHelper.getRgbBands(), numClusters=30)\n",
    "labelsFile = outDirectory / (inFile.stem + '-labels' + inFile.suffix)\n",
    "labelsDs = Clusterer.labelsToGeotiff(inHelper._dataset, labelsFile, labels)\n",
    "lHelper = ImageHelper()\n",
    "lHelper.initFromDataset(labelsDs, noDataValue)"
   ]
  },
  {
   "cell_type": "code",
   "execution_count": 19,
   "id": "8f964967-85b9-4645-a869-354f91a84a40",
   "metadata": {
    "tags": []
   },
   "outputs": [
    {
     "data": {
      "application/vnd.jupyter.widget-view+json": {
       "model_id": "697c57ad76ba4dfab91771fa1ffde51f",
       "version_major": 2,
       "version_minor": 0
      },
      "text/plain": [
       "Map(center=[66.346511472519, -140.3222662042015], controls=(ZoomControl(options=['position', 'zoom_in_text', '…"
      ]
     },
     "execution_count": 19,
     "metadata": {},
     "output_type": "execute_result"
    }
   ],
   "source": [
    "corners = inHelper.getCorners()\n",
    "\n",
    "# ---\n",
    "# The only reason used leafmap and not ipyleaflet directly is to get the\n",
    "# inspector tool under the wrench button on leafmap's map.\n",
    "# ---\n",
    "m = leafmap.Map(fullscreen_control=False,\n",
    "                layers_control=True,\n",
    "                search_control=False,\n",
    "                draw_control=False,\n",
    "                measure_control=False,\n",
    "                scale_control=False,\n",
    "                toolbar_control=True,\n",
    "                center=[corners[1], corners[0]])\n",
    "\n",
    "m.fit_bounds([[corners[1], corners[0]], [corners[3], corners[2]]])\n",
    "\n",
    "m.add_raster(str(inFile),\n",
    "             band=inHelper.getRgbIndexList(),\n",
    "             vmin=inHelper._minValue,\n",
    "             vmax=inHelper._maxValue,\n",
    "             nodata=inHelper._noDataValue,\n",
    "             opacity=0.5,\n",
    "             layer_name=inFile.name\n",
    "            )\n",
    "\n",
    "m.add_raster(str(labelsFile),\n",
    "             vmin=lHelper._minValue,\n",
    "             vmax=lHelper._maxValue,\n",
    "             nodata=lHelper._noDataValue,\n",
    "             opacity=0.5,\n",
    "             layer_name=labelsFile.name,\n",
    "             palette='viridis',\n",
    "            )\n",
    "\n",
    "m"
   ]
  },
  {
   "cell_type": "markdown",
   "id": "f0d60ece-19c6-494e-8d92-2f31991aec21",
   "metadata": {},
   "source": [
    "## Update the labels.\n",
    "Select multiple values by clicking the mouse or using the arrow keys while pressing shirt, control or command."
   ]
  },
  {
   "cell_type": "code",
   "execution_count": 11,
   "id": "7e82f75d-c34b-460d-a03f-fefe4c265a96",
   "metadata": {},
   "outputs": [
    {
     "data": {
      "application/vnd.jupyter.widget-view+json": {
       "model_id": "327e02d0693442a4956621e24efd8e72",
       "version_major": 2,
       "version_minor": 0
      },
      "text/plain": [
       "SelectMultiple(layout=Layout(height='200px', width='150px'), options=(0, 1, 2, 3, 4, 5, 6, 7, 8, 9, 10, 11, 12…"
      ]
     },
     "metadata": {},
     "output_type": "display_data"
    },
    {
     "data": {
      "application/vnd.jupyter.widget-view+json": {
       "model_id": "17fa93443d1c49c793142b2480186661",
       "version_major": 2,
       "version_minor": 0
      },
      "text/plain": [
       "ToggleButtons(options=('Select:', 'Next', 'Done', 'Start Over'), value='Select:')"
      ]
     },
     "metadata": {},
     "output_type": "display_data"
    },
    {
     "data": {
      "application/vnd.jupyter.widget-view+json": {
       "model_id": "acb15c7ad8824882815852ec9e4040d5",
       "version_major": 2,
       "version_minor": 0
      },
      "text/plain": [
       "Output()"
      ]
     },
     "metadata": {},
     "output_type": "display_data"
    }
   ],
   "source": [
    "opts = list(numpy.unique(labels))\n",
    "\n",
    "sl = ipywidgets.SelectMultiple( \\\n",
    "        options=opts, \n",
    "        layout=(ipywidgets.Layout(height='200px', width='150px')))\n",
    "\n",
    "bt = ipywidgets.ToggleButtons(options=['Select:', 'Next', 'Done', 'Start Over'], \n",
    "                              value='Select:')\n",
    "\n",
    "output = ipywidgets.Output()\n",
    "display(sl, bt, output)\n",
    "table = {}\n",
    "bt.observe(handleClick, names='value')"
   ]
  },
  {
   "cell_type": "markdown",
   "id": "272566d5-a456-4d05-b85c-a7ce8064af81",
   "metadata": {},
   "source": [
    "## Edit the groups.\n",
    "Edit cluster IDs in each group.  When finished, proceed to the next cell."
   ]
  },
  {
   "cell_type": "code",
   "execution_count": 15,
   "id": "cebdcdc5-2f9e-4470-a842-b9ae5ba4a673",
   "metadata": {},
   "outputs": [
    {
     "data": {
      "application/vnd.jupyter.widget-view+json": {
       "model_id": "f706a36497a54a1ba9158f7fe9ca9ee8",
       "version_major": 2,
       "version_minor": 0
      },
      "text/plain": [
       "Sheet(cells=(Cell(column_end=0, column_start=0, numeric_format='0[.]0', row_end=2, row_start=0, squeeze_row=Fa…"
      ]
     },
     "execution_count": 15,
     "metadata": {},
     "output_type": "execute_result"
    }
   ],
   "source": [
    "strTab = {}\n",
    "\n",
    "for item in table:\n",
    "    strTab[item] = ', '.join(str(i) for i in table[item])\n",
    "\n",
    "df = pandas.DataFrame(strTab.items(), columns=['Class', 'Cluster ID'])\n",
    "sheet = ipysheet.from_dataframe(df)\n",
    "sheet.column_width = [1, 5]\n",
    "sheet"
   ]
  },
  {
   "cell_type": "code",
   "execution_count": 17,
   "id": "6735b926-0875-471b-8308-cd2fa9604a84",
   "metadata": {},
   "outputs": [],
   "source": [
    "editedDf = ipysheet.to_dataframe(sheet)\n",
    "strClusters = editedDf.to_dict()['Cluster ID']\n",
    "\n",
    "finalClusters = {}\n",
    "\n",
    "for key in strClusters:\n",
    "    \n",
    "    strCluster = strClusters[key]\n",
    "    finalClusters[int(key)] = [int(i) for i in strCluster.split(',') if i]\n",
    "\n",
    "newClusters = relabel(labels, finalClusters)"
   ]
  },
  {
   "cell_type": "markdown",
   "id": "2e7fb804-998b-4b61-aff4-cdaea1372aec",
   "metadata": {
    "tags": []
   },
   "source": [
    "## Review the updated map."
   ]
  },
  {
   "cell_type": "code",
   "execution_count": 18,
   "id": "3de40132-be5c-44ce-9620-9809d4d9143b",
   "metadata": {
    "tags": []
   },
   "outputs": [
    {
     "data": {
      "application/vnd.jupyter.widget-view+json": {
       "model_id": "d86a1f5b802d4fe1800d4215242e2289",
       "version_major": 2,
       "version_minor": 0
      },
      "text/plain": [
       "Map(bottom=129936.0, center=[66.9030773436267, -138.87666489579095], controls=(ZoomControl(options=['position'…"
      ]
     },
     "metadata": {},
     "output_type": "display_data"
    },
    {
     "data": {
      "text/markdown": [
       "<h3>The cluster map is at<br><br>/explore/nobackup/people/rlgill/innovation-lab-repositories/ImageCluster/my4326-cluster-map.tif</h3>"
      ],
      "text/plain": [
       "<IPython.core.display.Markdown object>"
      ]
     },
     "execution_count": 18,
     "metadata": {},
     "output_type": "execute_result"
    }
   ],
   "source": [
    "clusterMapFile = outDirectory / (inFile.stem + '-cluster-map' + inFile.suffix)\n",
    "\n",
    "cmDataset = Clusterer.labelsToGeotiff(inHelper._dataset, \n",
    "                                      clusterMapFile, newClusters)\n",
    "\n",
    "cmHelper = ImageHelper()\n",
    "cmHelper.initFromDataset(cmDataset, noDataValue)\n",
    "\n",
    "m.add_raster(str(clusterMapFile),\n",
    "             band=cmHelper.getRgbIndexList(),\n",
    "             vmin=cmHelper._minValue,\n",
    "             vmax=cmHelper._maxValue,\n",
    "             nodata=cmHelper._noDataValue,\n",
    "             opacity=0.5,\n",
    "             layer_name=clusterMapFile.name\n",
    "            )\n",
    "\n",
    "display(m)\n",
    "\n",
    "\n",
    "Markdown(f'<h3>The cluster map is at<br><br>{clusterMapFile}</h3>')"
   ]
  },
  {
   "cell_type": "code",
   "execution_count": null,
   "id": "b0ca92b6-9911-47ee-ad8d-0295e03fae22",
   "metadata": {},
   "outputs": [],
   "source": []
  }
 ],
 "metadata": {
  "kernelspec": {
   "display_name": "ILAB Kernel",
   "language": "python",
   "name": "ilab-kernel"
  },
  "language_info": {
   "codemirror_mode": {
    "name": "ipython",
    "version": 3
   },
   "file_extension": ".py",
   "mimetype": "text/x-python",
   "name": "python",
   "nbconvert_exporter": "python",
   "pygments_lexer": "ipython3",
   "version": "3.8.16"
  },
  "toc-showtags": true
 },
 "nbformat": 4,
 "nbformat_minor": 5
}
