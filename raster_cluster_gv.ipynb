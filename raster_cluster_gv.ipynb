{
 "cells": [
  {
   "cell_type": "markdown",
   "id": "auburn-northeast",
   "metadata": {},
   "source": [
    "# Image Clustering Notebook\n",
    "The notebook is to use K-means cluster for unsupervised classificaiton on multi-band raster data <br>\n",
    "Folium serves as visualization backend <br>\n",
    "\n",
    "<br>\n",
    "Basic workflow: <br>\n",
    "<ul>\n",
    "    <li> Read raster data </li>\n",
    "    <li> Plot raster data </li>\n",
    "    <li> Run clustering </li>\n",
    "    <li> Plot result with raster </li>\n",
    "    <li> Re-label clusters </li>\n",
    "    <li> Plot updated result </li>\n",
    "    <li> Write out clustering labels </li>\n",
    "</ul>\n",
    "\n",
    "<br>\n",
    "\n",
    "<i>version 1.0  Date: Mar-2022</i>\n",
    "\n",
    "<br>\n",
    "<i>version 1.1  Date: Apr.-2022:\n",
    "<ul> \n",
    "    <li> Use geoViews for vis </li>\n",
    "    <li> Add widget to select lables </li> \n",
    "<i/>\n"
   ]
  },
  {
   "cell_type": "code",
   "execution_count": null,
   "id": "outdoor-output",
   "metadata": {},
   "outputs": [],
   "source": [
    "import rasterio as rio\n",
    "import rioxarray as rxr\n",
    "import xarray as xr\n",
    "from sklearn import cluster\n",
    "import numpy as np\n",
    "\n",
    "from rasterio.plot import reshape_as_image\n",
    "import geoviews as gv\n",
    "\n",
    "import holoviews.operation.datashader as hd\n",
    "\n",
    "import ipywidgets as widgets\n",
    "import panel as pn\n",
    "pn.extension()"
   ]
  },
  {
   "cell_type": "code",
   "execution_count": null,
   "id": "aa676987-b556-4533-9686-d1ff47385ca5",
   "metadata": {},
   "outputs": [],
   "source": [
    "import warnings\n",
    "warnings.filterwarnings(\"ignore\")"
   ]
  },
  {
   "cell_type": "code",
   "execution_count": null,
   "id": "developmental-vietnam",
   "metadata": {},
   "outputs": [],
   "source": [
    "#using bokeh backend\n",
    "gv.extension('bokeh')"
   ]
  },
  {
   "cell_type": "code",
   "execution_count": null,
   "id": "limiting-hundred",
   "metadata": {},
   "outputs": [],
   "source": [
    "from cartopy import crs\n",
    "from joblib import cpu_count"
   ]
  },
  {
   "cell_type": "code",
   "execution_count": null,
   "id": "vocational-floating",
   "metadata": {},
   "outputs": [],
   "source": [
    "import matplotlib.pyplot as plt\n"
   ]
  },
  {
   "cell_type": "code",
   "execution_count": null,
   "id": "certified-resort",
   "metadata": {},
   "outputs": [],
   "source": [
    "def get_cluster(raster_file, bands=None, n_cluster=5):\n",
    "    src = rio.open(raster_file)\n",
    "    if bands:\n",
    "        arr = src.read(bands)\n",
    "    else:\n",
    "        arr = src.read()\n",
    "    \n",
    "    img = reshape_as_image(arr)\n",
    "    img1d = img.reshape(-1, img.shape[-1])\n",
    "    \n",
    "    #parameters for KMeans\n",
    "    params = {\n",
    "    'n_clusters' : n_cluster,\n",
    "    'random_state' : 0,\n",
    "    'batch_size' : 256*cpu_count()\n",
    "    }\n",
    "    cl = cluster.MiniBatchKMeans(**params)\n",
    "    model = cl.fit(img1d)\n",
    "    # \n",
    "    img_cl = model.labels_\n",
    "    img_cl = img_cl.reshape(img[:,:,0].shape)\n",
    "    return img_cl\n",
    "\n",
    "\n",
    "def relabel(lab_arr, lookup):\n",
    "    new_lab = lab_arr.copy()\n",
    "    for k, v in lookup.items():\n",
    "        if len(v)==1 & k==v[0]:\n",
    "            pass\n",
    "        else:\n",
    "            new_lab = np.where(np.isin(new_lab, v), k, new_lab)\n",
    "    return new_lab\n",
    "\n",
    "def np2ds(x, y, arr):\n",
    "    # load 2-D np.array to gv.dataset\n",
    "    # x: vector          x-coord (longitude)\n",
    "    # y: vector          y-coord (latitude)\n",
    "    # arr: 2-D Array     shape(x,y)\n",
    "    # returns:\n",
    "    #     min(arr), max(arr), gv.DataSet\n",
    "    return arr.min(), arr.max(), gv.Dataset((x, y, arr), ['longitude', 'latitude'], 'class')"
   ]
  },
  {
   "cell_type": "code",
   "execution_count": null,
   "id": "physical-consciousness",
   "metadata": {},
   "outputs": [],
   "source": []
  },
  {
   "cell_type": "code",
   "execution_count": null,
   "id": "injured-berlin",
   "metadata": {},
   "outputs": [],
   "source": [
    "from datashader.utils import ngjit\n",
    "\n",
    "@ngjit\n",
    "def normalize_data(agg):\n",
    "    out = np.zeros_like(agg)\n",
    "    ii = np.iinfo(agg.dtype)\n",
    "    min_val = ii.min\n",
    "    max_val = ii.max-1\n",
    "    range_val = max_val-min_val\n",
    "    \n",
    "    cols, rows = agg.shape\n",
    "    c = 40\n",
    "    th = .125\n",
    "    for x in range(cols):\n",
    "        for y in range(rows):\n",
    "            val = agg[x, y]\n",
    "            norm = (val-min_val)/range_val\n",
    "            #norm = 1/(1+np.exp(c*(th-norm)))\n",
    "            out[x,y] = norm\n",
    "    return out"
   ]
  },
  {
   "cell_type": "code",
   "execution_count": null,
   "id": "corresponding-accordance",
   "metadata": {},
   "outputs": [],
   "source": [
    "# path to raster\n",
    "rfile = \"landsat.tif\"\n",
    "\n",
    "# load raster with rioxarry, can be replaced by other libs\n",
    "ds = rxr.open_rasterio(rfile)\n",
    "\n",
    "# show raster profile & spatial reference\n",
    "print(ds)\n",
    "print(ds.rio.crs)"
   ]
  },
  {
   "cell_type": "markdown",
   "id": "prime-grill",
   "metadata": {},
   "source": [
    "## Show raster map"
   ]
  },
  {
   "cell_type": "code",
   "execution_count": null,
   "id": "criminal-masters",
   "metadata": {},
   "outputs": [],
   "source": [
    "# specify rgb bands \n",
    "rb, gb, bb = (5,4,3)\n",
    "\n",
    "# extract bands values \n",
    "r,g,b = map(np.array, [ds.sel(band=rb).squeeze(), ds.sel(band=gb).squeeze(), ds.sel(band=bb).squeeze()])\n",
    "\n",
    "# normalize if necessary\n",
    "# r = normalize_data(r).astype(np.uint8)\n",
    "# g = normalize_data(g).astype(np.unit8)\n",
    "# b = normalize_data(b).astype(np.uinit8)\n"
   ]
  },
  {
   "cell_type": "code",
   "execution_count": null,
   "id": "printable-manitoba",
   "metadata": {},
   "outputs": [],
   "source": [
    "# set basemap\n",
    "# other available basemap samples  https://geoviews.org/user_guide/Working_with_Bokeh.html \n",
    "base_map = gv.tile_sources.EsriImagery.opts(width=800, height=800)"
   ]
  },
  {
   "cell_type": "code",
   "execution_count": null,
   "id": "retained-rabbit",
   "metadata": {},
   "outputs": [],
   "source": [
    "# set options for raster map\n",
    "img_opts = dict(width=600, height=600)\n",
    "raster_layer = gv.RGB((ds.x, ds.y, r, g, b), vdims=list('RGB'), crs=crs.PlateCarree()).opts(**img_opts)"
   ]
  },
  {
   "cell_type": "code",
   "execution_count": null,
   "id": "certified-partnership",
   "metadata": {},
   "outputs": [],
   "source": [
    "# web rendering is slow for large image\n",
    "pn.Column(raster_layer*base_map)"
   ]
  },
  {
   "cell_type": "markdown",
   "id": "realistic-paper",
   "metadata": {},
   "source": [
    "## Run K-Means Clustering for Image\n",
    "User can run clustering for subset of bands by giving a list; If not specified, all bands will be included  "
   ]
  },
  {
   "cell_type": "code",
   "execution_count": null,
   "id": "determined-swing",
   "metadata": {},
   "outputs": [],
   "source": [
    "%%time\n",
    "# get_cluster takes dataset object (not np.array) \n",
    "# and (optional) list of bands as inputs \n",
    "labels = get_cluster(rfile, bands=(5,4,3), n_cluster=30)\n",
    "labels.shape"
   ]
  },
  {
   "cell_type": "markdown",
   "id": "sophisticated-dover",
   "metadata": {},
   "source": [
    "## Show cluster map\n"
   ]
  },
  {
   "cell_type": "code",
   "execution_count": null,
   "id": "compound-absence",
   "metadata": {},
   "outputs": [],
   "source": [
    "\n",
    "# load data into a Dataset\n",
    "minv, maxv, cls_ds = np2ds(ds.x, ds.y, labels)\n",
    "\n",
    "# set options for cluster map\n",
    "cls_opts = dict(\n",
    "    width=600, \n",
    "    height=600, \n",
    "    cmap=\"Category20b\",\n",
    "    colorbar=False,\n",
    "    clim = (minv, maxv),\n",
    "    \n",
    "    tools=[\"hover\"], active_tools=['wheel_zoom']\n",
    ")\n",
    "cluster_layer = gv.Image(cls_ds, crs=crs.PlateCarree())\n",
    "\n",
    "pn.Column(cluster_layer.opts(**cls_opts)*base_map.opts(height=600, width=600))"
   ]
  },
  {
   "cell_type": "markdown",
   "id": "modular-individual",
   "metadata": {},
   "source": [
    "## Display maps side-by-side \n"
   ]
  },
  {
   "cell_type": "code",
   "execution_count": null,
   "id": "nervous-radical",
   "metadata": {
    "tags": []
   },
   "outputs": [],
   "source": [
    "import time\n",
    "s = time.time()\n",
    "pn.Column(cluster_layer*raster_layer*base_map + cluster_layer*base_map)\n"
   ]
  },
  {
   "cell_type": "markdown",
   "id": "original-humidity",
   "metadata": {},
   "source": [
    "## Update labels \n",
    "User can aggregate classes into new groups through loop-up table"
   ]
  },
  {
   "cell_type": "code",
   "execution_count": null,
   "id": "d8e9a965-f01f-4f70-95c9-3d566117d7c3",
   "metadata": {},
   "outputs": [],
   "source": [
    "tab = {}\n",
    "def update_dict(op):\n",
    "    if op == 'N':\n",
    "        key = list(sl.value)[0]\n",
    "        tab[key] = list(sl.value)\n",
    "        print(\"Re-grouping : \", tab)\n",
    "    if op == 'D':\n",
    "        if len(sl.options) > 0:\n",
    "            key = list(sl.options)[0]\n",
    "            tab[key] = list(sl.options)\n",
    "        print(\"Final Groups : \", tab)\n",
    "    if op == 'S':\n",
    "        tab.clear()\n",
    "        print(\"Start Over : \", tab)\n",
    "    \n",
    "def update_list(old, out):\n",
    "    return [ele for ele in old if ele not in out]\n",
    "\n",
    "print(\"Multiple values can be selected with shift and/or ctrl (or command) pressed and mouse clicks or arrow keys.\")\n",
    "opts = list(np.unique(labels))\n",
    "sl = widgets.SelectMultiple(options=opts, layout=(widgets.Layout(height='200px', width='150px')))\n",
    "bt = widgets.ToggleButtons(options=['Select:', 'Next', 'Done', 'Start Over'], value='Select:')\n",
    "output = widgets.Output()\n",
    "display(sl, bt, output)\n",
    "def handle_click(change):\n",
    "    with output:\n",
    "        if change.new == \"Next\":\n",
    "            nn = update_list(list(sl.options), list(sl.value))\n",
    "            update_dict(\"N\")\n",
    "            sl.options = nn\n",
    "            bt.value='Select:'\n",
    "        if change.new == \"Done\":\n",
    "            update_dict(\"D\")\n",
    "        if change.new == \"Start Over\":\n",
    "            sl.options = opts\n",
    "            update_dict(\"S\")\n",
    "            bt.value = 'Select:'\n",
    "            \n",
    "\n",
    "            #sl.value = n[-1]\n",
    "\n",
    "bt.observe(handle_click, names='value')"
   ]
  },
  {
   "cell_type": "code",
   "execution_count": null,
   "id": "30b75044-b10b-4488-8862-d23b544f4a7c",
   "metadata": {},
   "outputs": [],
   "source": [
    "input(\"> Press Enter to Continue...\\n\")\n",
    "\n",
    "# This cell updates clusters with new labels & converts labels into sequential one\n",
    "new_labels = relabel(labels, tab)\n",
    "\n",
    "t = {}\n",
    "for i, v in enumerate(np.unique(new_labels)):\n",
    "    t[i] = [v]\n",
    "\n",
    "new_labels_seq = relabel(new_labels, t)\n",
    "print(\"New Classes\", np.unique(new_labels_seq))"
   ]
  },
  {
   "cell_type": "code",
   "execution_count": null,
   "id": "judicial-tower",
   "metadata": {},
   "outputs": [],
   "source": [
    "# load data into a Dataset\n",
    "minv, maxv, cls_ds_new = np2ds(ds.x, ds.y, new_labels_seq)\n",
    "\n",
    "# set options for cluster map\n",
    "\n",
    "cls_opts = dict(\n",
    "    width=600, \n",
    "    height=600, \n",
    "    cmap=\"Category20b\",\n",
    "    colorbar=False,\n",
    "    clim = (minv, maxv),   \n",
    "    tools=[\"hover\"], active_tools=['wheel_zoom']\n",
    ")\n",
    "\n",
    "cluster_layer_new = gv.Image(cls_ds_new, crs=crs.PlateCarree()).opts(**cls_opts)\n"
   ]
  },
  {
   "cell_type": "code",
   "execution_count": null,
   "id": "light-inside",
   "metadata": {},
   "outputs": [],
   "source": [
    "pn.Column(cluster_layer_new*raster_layer*base_map+cluster_layer_new*base_map)"
   ]
  },
  {
   "cell_type": "markdown",
   "id": "reserved-differential",
   "metadata": {},
   "source": [
    "## Export labels to geoTiff"
   ]
  },
  {
   "cell_type": "code",
   "execution_count": null,
   "id": "decimal-worst",
   "metadata": {},
   "outputs": [],
   "source": [
    "# path to output file\n",
    "save_path = \"./landsat_cluster.tif\"\n",
    "\n",
    "# labels to write out\n",
    "rslt = new_labels_seq"
   ]
  },
  {
   "cell_type": "code",
   "execution_count": null,
   "id": "forward-flight",
   "metadata": {},
   "outputs": [],
   "source": [
    "'''\n",
    "# using profile from input raster\n",
    "with rio.open(rfile) as src:\n",
    "    profile = src.meta\n",
    "    # update number of bands\n",
    "    profile.update(count=1)\n",
    "    \n",
    "    with rio.open(save_path, 'w', **profile) as dst:\n",
    "        ds.write(rslt, indexes = 1)\n",
    "'''"
   ]
  },
  {
   "cell_type": "code",
   "execution_count": null,
   "id": "celtic-reform",
   "metadata": {},
   "outputs": [],
   "source": [
    "'''\n",
    "# (optional) double check write-out labels\n",
    "with rio.open(save_path) as ck:\n",
    "    print(ck.meta)\n",
    "    print(np.unique(ck.read()))\n",
    "'''"
   ]
  },
  {
   "cell_type": "code",
   "execution_count": null,
   "id": "ee7e80db-d967-4d61-8bd4-7829c3569049",
   "metadata": {},
   "outputs": [],
   "source": []
  }
 ],
 "metadata": {
  "kernelspec": {
   "display_name": "ilab-kernel",
   "language": "python",
   "name": "python3"
  },
  "language_info": {
   "codemirror_mode": {
    "name": "ipython",
    "version": 3
   },
   "file_extension": ".py",
   "mimetype": "text/x-python",
   "name": "python",
   "nbconvert_exporter": "python",
   "pygments_lexer": "ipython3",
   "version": "3.7.12"
  }
 },
 "nbformat": 4,
 "nbformat_minor": 5
}
